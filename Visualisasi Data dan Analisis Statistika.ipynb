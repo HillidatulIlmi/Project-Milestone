{
 "cells": [
  {
   "cell_type": "markdown",
   "metadata": {},
   "source": [
    "URL Heroku\n",
    "\n",
    "https://hillidatul-ftds-001-p0m1.herokuapp.com/"
   ]
  },
  {
   "cell_type": "markdown",
   "metadata": {},
   "source": [
    "# Perkenalan\n",
    "\n",
    "Nama : Hillidatul Ilmi\n",
    "\n",
    "Batch : 12\n",
    "\n",
    "Dikutip dari springboard.com, Alur perkerjaan Data Scientist itu yang menghabiskan banyak waktu dalam proses mengumpulkan, membersihkan, dan merapikan data, karena data tidak pernah akan bersih. Sebelum melakukan pemodelan, data scince terlebih dahulu harus mengumpulkan dan menganalisis data, mengumpulkan ide-ide yang dapat ditindaklanjuti, dan membagikannya informasi yang didapatkan. Tahapan-tahapan untuk memperoleh informasi dari data,  akan ini akan dijelaskan pada milestone ini melalui visualisasi data dan analisis statistika."
   ]
  },
  {
   "cell_type": "markdown",
   "metadata": {},
   "source": [
    "# Pengenalan Data dan Identifikasi Masalah\n",
    "\n",
    "Statistika merupakan ilmu yang berkaitan dengan data. Statistik adalah data itu sendiri, informasinya, atau hasil penerapan algoritme statistika pada suatu data tersebut. Dari kumpulan data, statistika dapat digunakan untuk menyimpulkan atau mendeskripsikan data. Data yang digunakan oleh milestone ini bersumber dari https://console.cloud.google.com/bigquery?project=bigquery-public-data&page=project mengenai semua transaksi yang teradi di toko the look.\n",
    "\n",
    "Data visualisasi dan Analisa statistika mengunakan data yang berbeda tetapi masih merupakan data transaksi yang terjadi toko online \"The Look\". \n",
    "\n",
    "Data yang digunakan untuk visualisasi merupakan barang inventaris. Barang inventaris adalah seluruh barang yang dimiliki/dikuasai oleh pemerintah daerah dan barang – barang yang diserahkan penggunaannya kepada pihak lain, baik yang bergerak maupun tidak bergerak dan merupakann barang yang penggunaannya lebih dari satu tahun dan nilainya dapat ditentukan oleh kepala daerah dan dicatat serta didaftar dalam buku inventaris. Berikut adalah kolom-kolom transaksi barang inventasi yang terjadi di toko online 'The Look\" :\n",
    "- created_at : Tangga dan waktu terjadinya transaksi barang inventaris yang terekam oleh users\n",
    "- age\t: Usia atau umur pelanggan yang melakukan pembelian barang inventaris yang terekam oleh users\n",
    "- gender : Jenis kelamin pelanggan yang melakukan pembelian barang inventaris yang terekam oleh users\n",
    "- country\t: Neraga-negara yang berbelanja batang inventaris secara online di toko the look\n",
    "- cost : Biaya modal yang digunakan untuk pembelian barang inventaris di toko the look\n",
    "- product_category : Kategori barang inventaris yang di jual oleh toko the look\n",
    "- product_retail_price : Harga-harga barang inventasi yang dijual oleh toko the look \n",
    "\n",
    "Data yang digunakan untuk analisis statistika merupakan data barang produk dan barang orde yang ada di toko online the look. William J. Produk adalah seperangkat atribut yang nyata atau tidak nyata yang diterima oleh pembeli sebagai suatu hal yang mampu memuaskan keperluan atau kebutuhannya. Sedangkan order adalah pemesanan yang dilakukan oeh sistem ata manusia. Berikut adalah kolom-kolom transaksi produk yang terjadi di toko online 'The Look\" :\n",
    "- created_at : Tangga dan waktu terjadinya transaksi barang produk di toko the look\n",
    "- sale_price : Potongan harga barang produk di toko the look\n",
    "- name : Nama produk yang telah terjual di toko the look\n",
    "- cost : Biaya modal yang digunakan untuk pembelian produk di toko the look\n",
    "- category : Kategori produk yang di jual oleh toko the look\n",
    "- retail_price : Harga-harga produk yang dijual oleh toko the look \n",
    "\n",
    "Telah terjadi masalah di Toko the look. CEO toko online \"The Look\" mencurigai bahwa ada yang tidak beres dari sistem penjualan di tokonya, dari performa penjualan produk, pengiriman barang, dsb. Mohon bantu ungkapkan apakah bermasalah atau tidak dari sistem penjualan di platformnya. Gunakan dataset thelook_ecommerce di Google Cloud Platform BigQuery. Berdasarkan problem yang terjadi, data scientist akan memecahkan beberapa masalah berikut :\n",
    "\n",
    "a. Negara mana dengan rata-rata transaksi pembelian barang inventaris paling besar ?\n",
    "\n",
    "b. Bagaimana perbandingan biaya modal dengan harga jual barang inventaris ?\n",
    "\n",
    "c. Berapa jumlah perbandingan penjualan barang inventaris dimasing-masing kategori barangnya ?\n",
    "\n",
    "d. Apakah harga suatu barang inventaris ditentukan oleh usia pelanggan ?\n",
    "\n",
    "e. Berdasarkan ukuran penyebaran, berapa nilai range, variansi dan standar deviasi dari kategori produk yang dipilih tanpa adanya data outlier ?\n",
    "\n",
    "f. Apakah potongan harga produk di toko the look meningkat secara signifikan ?\n",
    "\n",
    "g. Bagaimana perbedaan rata-rata penjualan produk untuk kategori underware dengan sochs & hosiery ?"
   ]
  },
  {
   "cell_type": "markdown",
   "metadata": {},
   "source": [
    "# Data Loading & Queries\n",
    "\n",
    "Data loading digunakan untuk sebagai proses memuat data yang sudah ada ke tujuan baru, berupa pemberian informasi. Data visualisasi dan Analisa statistika mengunakan data yang berbeda tetapi masih merupakan data transaksi yang terjadi toko online \"The Look\".\n",
    "- Data visualisasi menggunakan data tabel User dan tabel inventory_items, yang menampilkan kolom created_at, gender, country, cost, product_category dan product_retail_price.\n",
    "- Analisa statistika menggunakan data tabel order_items dan tabel products, yang menampilkan kolom created_at, sale_price, name, cost, category dan retail_price.\n",
    "\n",
    "Berikut semua query yang dibuat untuk menarik semua data yang diperlukan dalam milestone ini :"
   ]
  },
  {
   "cell_type": "markdown",
   "metadata": {},
   "source": [
    "##### Data loading dan queries untuk VISUALISASI"
   ]
  },
  {
   "cell_type": "code",
   "execution_count": null,
   "metadata": {},
   "outputs": [],
   "source": [
    "QUERY DATA VISUALISASI\n",
    "\n",
    "SELECT #Menampilkan beberapa kolom yang dibutuhkan dari sebuah tabel\n",
    "inventory.created_at,users.age,users.gender,users.country, #Ingin menampilkan kolom gender dan country dari tabel user\n",
    "inventory.cost,inventory.product_category,inventory.product_retail_price #Ingin menampilkan kolom created_at, cost, product_category dan product_retail_price dari tabel inventory\n",
    "FROM `bigquery-public-data.thelook_ecommerce.users` AS users #Data yang dibutuhkan dari thelook_ecommerce yang di definisikan sebagai tabel users\n",
    "JOIN `bigquery-public-data.thelook_ecommerce.inventory_items` AS inventory #Digabungkan dengan metode inner join dari thelook_ecommerce yang di definisikan sebagai tabel inventory\n",
    "ON users.id = inventory.id; #Mengabungkan kedua tabel menjadi satu bagian"
   ]
  },
  {
   "cell_type": "code",
   "execution_count": 1,
   "metadata": {},
   "outputs": [
    {
     "data": {
      "text/html": [
       "<div>\n",
       "<style scoped>\n",
       "    .dataframe tbody tr th:only-of-type {\n",
       "        vertical-align: middle;\n",
       "    }\n",
       "\n",
       "    .dataframe tbody tr th {\n",
       "        vertical-align: top;\n",
       "    }\n",
       "\n",
       "    .dataframe thead th {\n",
       "        text-align: right;\n",
       "    }\n",
       "</style>\n",
       "<table border=\"1\" class=\"dataframe\">\n",
       "  <thead>\n",
       "    <tr style=\"text-align: right;\">\n",
       "      <th></th>\n",
       "      <th>created_at</th>\n",
       "      <th>age</th>\n",
       "      <th>gender</th>\n",
       "      <th>country</th>\n",
       "      <th>cost</th>\n",
       "      <th>product_category</th>\n",
       "      <th>product_retail_price</th>\n",
       "    </tr>\n",
       "  </thead>\n",
       "  <tbody>\n",
       "    <tr>\n",
       "      <th>0</th>\n",
       "      <td>2021-07-13 13:48:37 UTC</td>\n",
       "      <td>56</td>\n",
       "      <td>M</td>\n",
       "      <td>China</td>\n",
       "      <td>13.925</td>\n",
       "      <td>Tops &amp; Tees</td>\n",
       "      <td>25.0</td>\n",
       "    </tr>\n",
       "    <tr>\n",
       "      <th>1</th>\n",
       "      <td>2021-08-26 05:08:00 UTC</td>\n",
       "      <td>26</td>\n",
       "      <td>F</td>\n",
       "      <td>United States</td>\n",
       "      <td>13.925</td>\n",
       "      <td>Tops &amp; Tees</td>\n",
       "      <td>25.0</td>\n",
       "    </tr>\n",
       "    <tr>\n",
       "      <th>2</th>\n",
       "      <td>2022-04-04 06:22:56 UTC</td>\n",
       "      <td>30</td>\n",
       "      <td>M</td>\n",
       "      <td>Germany</td>\n",
       "      <td>13.925</td>\n",
       "      <td>Tops &amp; Tees</td>\n",
       "      <td>25.0</td>\n",
       "    </tr>\n",
       "    <tr>\n",
       "      <th>3</th>\n",
       "      <td>2020-03-15 09:37:00 UTC</td>\n",
       "      <td>17</td>\n",
       "      <td>F</td>\n",
       "      <td>Brasil</td>\n",
       "      <td>13.925</td>\n",
       "      <td>Tops &amp; Tees</td>\n",
       "      <td>25.0</td>\n",
       "    </tr>\n",
       "    <tr>\n",
       "      <th>4</th>\n",
       "      <td>2020-11-23 14:49:00 UTC</td>\n",
       "      <td>68</td>\n",
       "      <td>F</td>\n",
       "      <td>United States</td>\n",
       "      <td>13.925</td>\n",
       "      <td>Tops &amp; Tees</td>\n",
       "      <td>25.0</td>\n",
       "    </tr>\n",
       "    <tr>\n",
       "      <th>...</th>\n",
       "      <td>...</td>\n",
       "      <td>...</td>\n",
       "      <td>...</td>\n",
       "      <td>...</td>\n",
       "      <td>...</td>\n",
       "      <td>...</td>\n",
       "      <td>...</td>\n",
       "    </tr>\n",
       "    <tr>\n",
       "      <th>99995</th>\n",
       "      <td>2021-03-15 01:05:00 UTC</td>\n",
       "      <td>32</td>\n",
       "      <td>M</td>\n",
       "      <td>China</td>\n",
       "      <td>14.751</td>\n",
       "      <td>Active</td>\n",
       "      <td>33.0</td>\n",
       "    </tr>\n",
       "    <tr>\n",
       "      <th>99996</th>\n",
       "      <td>2022-04-02 03:07:20 UTC</td>\n",
       "      <td>68</td>\n",
       "      <td>F</td>\n",
       "      <td>United Kingdom</td>\n",
       "      <td>14.751</td>\n",
       "      <td>Active</td>\n",
       "      <td>33.0</td>\n",
       "    </tr>\n",
       "    <tr>\n",
       "      <th>99997</th>\n",
       "      <td>2021-09-27 04:34:00 UTC</td>\n",
       "      <td>50</td>\n",
       "      <td>M</td>\n",
       "      <td>United States</td>\n",
       "      <td>14.751</td>\n",
       "      <td>Active</td>\n",
       "      <td>33.0</td>\n",
       "    </tr>\n",
       "    <tr>\n",
       "      <th>99998</th>\n",
       "      <td>2022-02-26 20:13:15 UTC</td>\n",
       "      <td>70</td>\n",
       "      <td>F</td>\n",
       "      <td>Spain</td>\n",
       "      <td>10.465</td>\n",
       "      <td>Maternity</td>\n",
       "      <td>23.0</td>\n",
       "    </tr>\n",
       "    <tr>\n",
       "      <th>99999</th>\n",
       "      <td>2020-06-26 06:14:00 UTC</td>\n",
       "      <td>25</td>\n",
       "      <td>M</td>\n",
       "      <td>United States</td>\n",
       "      <td>10.465</td>\n",
       "      <td>Maternity</td>\n",
       "      <td>23.0</td>\n",
       "    </tr>\n",
       "  </tbody>\n",
       "</table>\n",
       "<p>100000 rows × 7 columns</p>\n",
       "</div>"
      ],
      "text/plain": [
       "                    created_at  age gender         country    cost  \\\n",
       "0      2021-07-13 13:48:37 UTC   56      M           China  13.925   \n",
       "1      2021-08-26 05:08:00 UTC   26      F   United States  13.925   \n",
       "2      2022-04-04 06:22:56 UTC   30      M         Germany  13.925   \n",
       "3      2020-03-15 09:37:00 UTC   17      F          Brasil  13.925   \n",
       "4      2020-11-23 14:49:00 UTC   68      F   United States  13.925   \n",
       "...                        ...  ...    ...             ...     ...   \n",
       "99995  2021-03-15 01:05:00 UTC   32      M           China  14.751   \n",
       "99996  2022-04-02 03:07:20 UTC   68      F  United Kingdom  14.751   \n",
       "99997  2021-09-27 04:34:00 UTC   50      M   United States  14.751   \n",
       "99998  2022-02-26 20:13:15 UTC   70      F           Spain  10.465   \n",
       "99999  2020-06-26 06:14:00 UTC   25      M   United States  10.465   \n",
       "\n",
       "      product_category  product_retail_price  \n",
       "0          Tops & Tees                  25.0  \n",
       "1          Tops & Tees                  25.0  \n",
       "2          Tops & Tees                  25.0  \n",
       "3          Tops & Tees                  25.0  \n",
       "4          Tops & Tees                  25.0  \n",
       "...                ...                   ...  \n",
       "99995           Active                  33.0  \n",
       "99996           Active                  33.0  \n",
       "99997           Active                  33.0  \n",
       "99998        Maternity                  23.0  \n",
       "99999        Maternity                  23.0  \n",
       "\n",
       "[100000 rows x 7 columns]"
      ]
     },
     "execution_count": 1,
     "metadata": {},
     "output_type": "execute_result"
    }
   ],
   "source": [
    "#Library untuk memangil data\n",
    "import pandas as pd\n",
    "import numpy as np\n",
    "import matplotlib.pyplot as plt\n",
    "import seaborn as sns\n",
    "\n",
    "#Menampilkan data tabel ecommerce untuk visualisasi data\n",
    "ecommerce = pd.read_csv('h8dsft_Milestone1_HillidatulIlmi_user & inventory_Items.csv')\n",
    "ecommerce"
   ]
  },
  {
   "cell_type": "code",
   "execution_count": 2,
   "metadata": {},
   "outputs": [
    {
     "data": {
      "text/plain": [
       "(100000, 7)"
      ]
     },
     "execution_count": 2,
     "metadata": {},
     "output_type": "execute_result"
    }
   ],
   "source": [
    "ecommerce.shape"
   ]
  },
  {
   "cell_type": "markdown",
   "metadata": {},
   "source": [
    "**Tipe Data**. Dari data di atas, terdapat 100000 sampel pengamatan dengan 7 kolom yang diambil dari transaksi barang inventaris yang terjadi di toko the look. Informasi kolom sudah cukup jelas dari nama masing-masing kolom.\n",
    "\n",
    "1. Data Kualitatif pada tabel ini adalah created_at, gender, country dn product_category.\n",
    "2. Data kuantitatif pada tabel ini adalah age, cost\tdan product_retail_price."
   ]
  },
  {
   "cell_type": "markdown",
   "metadata": {},
   "source": [
    "##### Data loading dan queries untuk ANALISA STATISTIKA"
   ]
  },
  {
   "cell_type": "code",
   "execution_count": null,
   "metadata": {},
   "outputs": [],
   "source": [
    "QUERY DATA ANALISA STATISTIKA\n",
    "\n",
    "SELECT #Menampilkan beberapa kolom yang dibutuhkan dari sebuah tabel\n",
    "order_items.created_at,order_items.sale_price, #Ingin menampilkan kolom reated_at dan sale_price dari tabel order_items\n",
    "products.name,products.cost,products.category,products.retail_price #Ingin menampilkan kolom name, cost, category dan retail_price dari tabel products\n",
    "FROM `bigquery-public-data.thelook_ecommerce.order_items` AS order_items #Data yang dibutuhkan dari thelook_ecommerce yang di definisikan sebagai tabel order_items\n",
    "JOIN `bigquery-public-data.thelook_ecommerce.products` AS products #Digabungkan dengan metode inner join dari thelook_ecommerce yang di definisikan sebagai tabel products\n",
    "ON order_items.id = products.id; #Mengabungkan kedua tabel menjadi satu bagian"
   ]
  },
  {
   "cell_type": "code",
   "execution_count": 3,
   "metadata": {},
   "outputs": [
    {
     "data": {
      "text/html": [
       "<div>\n",
       "<style scoped>\n",
       "    .dataframe tbody tr th:only-of-type {\n",
       "        vertical-align: middle;\n",
       "    }\n",
       "\n",
       "    .dataframe tbody tr th {\n",
       "        vertical-align: top;\n",
       "    }\n",
       "\n",
       "    .dataframe thead th {\n",
       "        text-align: right;\n",
       "    }\n",
       "</style>\n",
       "<table border=\"1\" class=\"dataframe\">\n",
       "  <thead>\n",
       "    <tr style=\"text-align: right;\">\n",
       "      <th></th>\n",
       "      <th>created_at</th>\n",
       "      <th>sale_price</th>\n",
       "      <th>name</th>\n",
       "      <th>cost</th>\n",
       "      <th>category</th>\n",
       "      <th>retail_price</th>\n",
       "    </tr>\n",
       "  </thead>\n",
       "  <tbody>\n",
       "    <tr>\n",
       "      <th>0</th>\n",
       "      <td>2020-11-14 13:30:35 UTC</td>\n",
       "      <td>16.190001</td>\n",
       "      <td>2XU Men's Swimmers Compression Long Sleeve Top</td>\n",
       "      <td>92.652563</td>\n",
       "      <td>Swim</td>\n",
       "      <td>150.410004</td>\n",
       "    </tr>\n",
       "    <tr>\n",
       "      <th>1</th>\n",
       "      <td>2021-07-25 22:36:14 UTC</td>\n",
       "      <td>76.000000</td>\n",
       "      <td>TYR Sport Men's Square Leg Short Swim Suit</td>\n",
       "      <td>24.719661</td>\n",
       "      <td>Swim</td>\n",
       "      <td>38.990002</td>\n",
       "    </tr>\n",
       "    <tr>\n",
       "      <th>2</th>\n",
       "      <td>2022-06-01 23:14:25 UTC</td>\n",
       "      <td>62.360001</td>\n",
       "      <td>TYR Sport Men's Solid Durafast Jammer Swim Suit</td>\n",
       "      <td>15.897600</td>\n",
       "      <td>Swim</td>\n",
       "      <td>27.600000</td>\n",
       "    </tr>\n",
       "    <tr>\n",
       "      <th>3</th>\n",
       "      <td>2020-11-19 03:43:03 UTC</td>\n",
       "      <td>45.349998</td>\n",
       "      <td>TYR Sport Men's Swim Short/Resistance Short Sw...</td>\n",
       "      <td>17.850000</td>\n",
       "      <td>Swim</td>\n",
       "      <td>30.000000</td>\n",
       "    </tr>\n",
       "    <tr>\n",
       "      <th>4</th>\n",
       "      <td>2022-01-04 00:59:14 UTC</td>\n",
       "      <td>32.990002</td>\n",
       "      <td>TYR Alliance Team Splice Jammer</td>\n",
       "      <td>29.408001</td>\n",
       "      <td>Swim</td>\n",
       "      <td>45.950001</td>\n",
       "    </tr>\n",
       "    <tr>\n",
       "      <th>...</th>\n",
       "      <td>...</td>\n",
       "      <td>...</td>\n",
       "      <td>...</td>\n",
       "      <td>...</td>\n",
       "      <td>...</td>\n",
       "      <td>...</td>\n",
       "    </tr>\n",
       "    <tr>\n",
       "      <th>29115</th>\n",
       "      <td>2021-07-23 00:25:30 UTC</td>\n",
       "      <td>27.000000</td>\n",
       "      <td>Comfort Colors C1598 Womens Full-Zip Hooded Fl...</td>\n",
       "      <td>22.150999</td>\n",
       "      <td>Fashion Hoodies &amp; Sweatshirts</td>\n",
       "      <td>52.119999</td>\n",
       "    </tr>\n",
       "    <tr>\n",
       "      <th>29116</th>\n",
       "      <td>2022-03-20 00:20:44 UTC</td>\n",
       "      <td>126.629997</td>\n",
       "      <td>Comfort Colors Pigment-Dyed Ladies Full-Zip Ho...</td>\n",
       "      <td>18.973360</td>\n",
       "      <td>Fashion Hoodies &amp; Sweatshirts</td>\n",
       "      <td>39.860001</td>\n",
       "    </tr>\n",
       "    <tr>\n",
       "      <th>29117</th>\n",
       "      <td>2022-05-31 11:44:13 UTC</td>\n",
       "      <td>35.770000</td>\n",
       "      <td>Comfort Colors by Chouinard Women's Drawstring...</td>\n",
       "      <td>9.028020</td>\n",
       "      <td>Fashion Hoodies &amp; Sweatshirts</td>\n",
       "      <td>18.020000</td>\n",
       "    </tr>\n",
       "    <tr>\n",
       "      <th>29118</th>\n",
       "      <td>2022-01-06 16:04:29 UTC</td>\n",
       "      <td>89.779999</td>\n",
       "      <td>DV by Dolce Vita Women's Larisa Hooded Sweatshirt</td>\n",
       "      <td>17.674240</td>\n",
       "      <td>Fashion Hoodies &amp; Sweatshirts</td>\n",
       "      <td>34.520000</td>\n",
       "    </tr>\n",
       "    <tr>\n",
       "      <th>29119</th>\n",
       "      <td>2022-01-10 13:22:23 UTC</td>\n",
       "      <td>15.990000</td>\n",
       "      <td>Independent Trading Co Deluxe Fleece Zip Hoodie</td>\n",
       "      <td>17.533261</td>\n",
       "      <td>Fashion Hoodies &amp; Sweatshirts</td>\n",
       "      <td>36.990002</td>\n",
       "    </tr>\n",
       "  </tbody>\n",
       "</table>\n",
       "<p>29120 rows × 6 columns</p>\n",
       "</div>"
      ],
      "text/plain": [
       "                    created_at  sale_price  \\\n",
       "0      2020-11-14 13:30:35 UTC   16.190001   \n",
       "1      2021-07-25 22:36:14 UTC   76.000000   \n",
       "2      2022-06-01 23:14:25 UTC   62.360001   \n",
       "3      2020-11-19 03:43:03 UTC   45.349998   \n",
       "4      2022-01-04 00:59:14 UTC   32.990002   \n",
       "...                        ...         ...   \n",
       "29115  2021-07-23 00:25:30 UTC   27.000000   \n",
       "29116  2022-03-20 00:20:44 UTC  126.629997   \n",
       "29117  2022-05-31 11:44:13 UTC   35.770000   \n",
       "29118  2022-01-06 16:04:29 UTC   89.779999   \n",
       "29119  2022-01-10 13:22:23 UTC   15.990000   \n",
       "\n",
       "                                                    name       cost  \\\n",
       "0         2XU Men's Swimmers Compression Long Sleeve Top  92.652563   \n",
       "1             TYR Sport Men's Square Leg Short Swim Suit  24.719661   \n",
       "2        TYR Sport Men's Solid Durafast Jammer Swim Suit  15.897600   \n",
       "3      TYR Sport Men's Swim Short/Resistance Short Sw...  17.850000   \n",
       "4                        TYR Alliance Team Splice Jammer  29.408001   \n",
       "...                                                  ...        ...   \n",
       "29115  Comfort Colors C1598 Womens Full-Zip Hooded Fl...  22.150999   \n",
       "29116  Comfort Colors Pigment-Dyed Ladies Full-Zip Ho...  18.973360   \n",
       "29117  Comfort Colors by Chouinard Women's Drawstring...   9.028020   \n",
       "29118  DV by Dolce Vita Women's Larisa Hooded Sweatshirt  17.674240   \n",
       "29119    Independent Trading Co Deluxe Fleece Zip Hoodie  17.533261   \n",
       "\n",
       "                            category  retail_price  \n",
       "0                               Swim    150.410004  \n",
       "1                               Swim     38.990002  \n",
       "2                               Swim     27.600000  \n",
       "3                               Swim     30.000000  \n",
       "4                               Swim     45.950001  \n",
       "...                              ...           ...  \n",
       "29115  Fashion Hoodies & Sweatshirts     52.119999  \n",
       "29116  Fashion Hoodies & Sweatshirts     39.860001  \n",
       "29117  Fashion Hoodies & Sweatshirts     18.020000  \n",
       "29118  Fashion Hoodies & Sweatshirts     34.520000  \n",
       "29119  Fashion Hoodies & Sweatshirts     36.990002  \n",
       "\n",
       "[29120 rows x 6 columns]"
      ]
     },
     "execution_count": 3,
     "metadata": {},
     "output_type": "execute_result"
    }
   ],
   "source": [
    "#Library untuk memangil data\n",
    "import pandas as pd\n",
    "from scipy import stats\n",
    "import numpy as np\n",
    "import matplotlib.pyplot as plt\n",
    "import seaborn as sns\n",
    "\n",
    "#Menampilkan data tabel the look untuk analisa statistika\n",
    "TheLook = pd.read_csv('h8dsft_Milestone1_HillidatulIlmi_orderitems & product.csv')\n",
    "TheLook "
   ]
  },
  {
   "cell_type": "code",
   "execution_count": 4,
   "metadata": {},
   "outputs": [
    {
     "data": {
      "text/plain": [
       "(29120, 6)"
      ]
     },
     "execution_count": 4,
     "metadata": {},
     "output_type": "execute_result"
    }
   ],
   "source": [
    "TheLook.shape"
   ]
  },
  {
   "cell_type": "markdown",
   "metadata": {},
   "source": [
    "**Tipe Data**. Dari data di atas, terdapat 29120 sampel pengamatan dengan 6 kolom yang diambil dari transaksi barang produk yang terjadi di toko the look. Informasi kolom sudah cukup jelas dari nama masing-masing kolom.\n",
    "\n",
    "1. Data Kualitatif pada tabel ini adalah created_at, name dan category.\n",
    "2. Data kuantitatif pada tabel ini adalah sale_price, cost, dan retail_price."
   ]
  },
  {
   "cell_type": "markdown",
   "metadata": {},
   "source": [
    "# Data Cleaning"
   ]
  },
  {
   "cell_type": "markdown",
   "metadata": {},
   "source": [
    "Data Cleaning adalah proses mempersiapkan data untuk analisis dengan menghapus atau memodifikasi data yang tidak benar, tidak lengkap, tidak relevan, diduplikasi, atau diformat dengan tidak benar. Data ini biasanya tidak diperlukan atau membantu dalam menganalisis data karena dapat menghambat proses atau memberikan hasil yang tidak akurat. Ada beberapa metode untuk membersihkan data tergantung cara penyimpanannya beserta jawaban yang dicari. Pada proses ini akan dilakukan pengecekan data missing value dengan .info() terlebih dahulu :"
   ]
  },
  {
   "cell_type": "code",
   "execution_count": 5,
   "metadata": {},
   "outputs": [
    {
     "name": "stdout",
     "output_type": "stream",
     "text": [
      "<class 'pandas.core.frame.DataFrame'>\n",
      "RangeIndex: 100000 entries, 0 to 99999\n",
      "Data columns (total 7 columns):\n",
      " #   Column                Non-Null Count   Dtype  \n",
      "---  ------                --------------   -----  \n",
      " 0   created_at            100000 non-null  object \n",
      " 1   age                   100000 non-null  int64  \n",
      " 2   gender                100000 non-null  object \n",
      " 3   country               100000 non-null  object \n",
      " 4   cost                  100000 non-null  float64\n",
      " 5   product_category      100000 non-null  object \n",
      " 6   product_retail_price  100000 non-null  float64\n",
      "dtypes: float64(2), int64(1), object(4)\n",
      "memory usage: 5.3+ MB\n"
     ]
    }
   ],
   "source": [
    "# Pengecekan missing value untuk data visualisasi\n",
    "ecommerce.info()"
   ]
  },
  {
   "cell_type": "markdown",
   "metadata": {},
   "source": [
    "Hasil analisa pembersihan data atau standard missing value pada setiap kolom diperoleh, berdasarkan proses .info yang digunakan untuk melihat spesifikasi masing-masing dataset kolom standar memiliki nilai 100000 non-null sama dengan entri data sebesar 100000."
   ]
  },
  {
   "cell_type": "code",
   "execution_count": 6,
   "metadata": {},
   "outputs": [
    {
     "data": {
      "text/plain": [
       "'2018-11-14 10:06:41 UTC'"
      ]
     },
     "execution_count": 6,
     "metadata": {},
     "output_type": "execute_result"
    }
   ],
   "source": [
    "ecommerce['created_at'].min()"
   ]
  },
  {
   "cell_type": "code",
   "execution_count": 7,
   "metadata": {},
   "outputs": [
    {
     "data": {
      "text/plain": [
       "'2022-06-11 13:49:37.673682 UTC'"
      ]
     },
     "execution_count": 7,
     "metadata": {},
     "output_type": "execute_result"
    }
   ],
   "source": [
    "ecommerce['created_at'].max()"
   ]
  },
  {
   "cell_type": "markdown",
   "metadata": {},
   "source": [
    "Rentang waktu pengambilan transaksi barang inentaris di toko online The Look dari tanggal 2018-11-14 10:06:41 UTC sampai tanggal 2022-06-11 13:49:37 UTC. Berdasarkan rentang waktu tersebut, transaksi penjualan di toko the look sudah selalu menjual barang inventaris setiap harinya, diharapkan untuk tetap mempertahankan kekonsistenanya dalam penjualan agar bisa mendapatkan keuntungan."
   ]
  },
  {
   "cell_type": "code",
   "execution_count": 8,
   "metadata": {},
   "outputs": [
    {
     "name": "stdout",
     "output_type": "stream",
     "text": [
      "<class 'pandas.core.frame.DataFrame'>\n",
      "RangeIndex: 29120 entries, 0 to 29119\n",
      "Data columns (total 6 columns):\n",
      " #   Column        Non-Null Count  Dtype  \n",
      "---  ------        --------------  -----  \n",
      " 0   created_at    29120 non-null  object \n",
      " 1   sale_price    29120 non-null  float64\n",
      " 2   name          29118 non-null  object \n",
      " 3   cost          29120 non-null  float64\n",
      " 4   category      29120 non-null  object \n",
      " 5   retail_price  29120 non-null  float64\n",
      "dtypes: float64(3), object(3)\n",
      "memory usage: 1.3+ MB\n"
     ]
    }
   ],
   "source": [
    "# Pengecekan missing value untuk analisa statistika\n",
    "TheLook.info()"
   ]
  },
  {
   "cell_type": "markdown",
   "metadata": {},
   "source": [
    "Hasil analisa pembersihan data atau standard missing value pada setiap kolom diperoleh, berdasarkan proses .info yang digunakan untuk melihat spesifikasi masing-masing dataset kolom standar memiliki nilai 29120 non-null sama dengan entri data sebesar 29120."
   ]
  },
  {
   "cell_type": "code",
   "execution_count": 9,
   "metadata": {},
   "outputs": [
    {
     "data": {
      "text/plain": [
       "'2019-01-12 11:23:41 UTC'"
      ]
     },
     "execution_count": 9,
     "metadata": {},
     "output_type": "execute_result"
    }
   ],
   "source": [
    "TheLook['created_at'].min()"
   ]
  },
  {
   "cell_type": "code",
   "execution_count": 10,
   "metadata": {},
   "outputs": [
    {
     "data": {
      "text/plain": [
       "'2022-06-12 13:37:17.619829 UTC'"
      ]
     },
     "execution_count": 10,
     "metadata": {},
     "output_type": "execute_result"
    }
   ],
   "source": [
    "TheLook['created_at'].max()"
   ]
  },
  {
   "cell_type": "markdown",
   "metadata": {},
   "source": [
    "Rentang waktu pengambilan transaksi barang inentaris di toko online The Look dari tanggal 2019-01-12 11:23:41 UTC sampai tanggal 2022-06-12 13:37:17 UTC. Berdasarkan rentang waktu tersebut, transaksi penjualan di toko the look sudah selalu menjual produk setiap harinya, diharapkan untuk tetap mempertahankan kekonsistenanya dalam penjualan agar bisa mendapatkan keuntungan."
   ]
  },
  {
   "cell_type": "markdown",
   "metadata": {},
   "source": [
    "Missing value atau pemberisahan, biasanya dilakukan dengan replace missing values. Dibandingkan dengan menghapusnya/Drop, mengganti nilai missing values menjadi pilihan yang lebih baik karena tidak ada data yang terbuang. Namun tentu data kolom tersebut menjadi kurang akurat karena diisi dengan nilai yang diperkirakan. Berdasarkan hasil pembersihan data atau pengecekan standard missing value pada kedua tabel diperoleh, berdasarkan proses .info yang digunakan untuk melihat spesifikasi masing-masing tabel dengan dataset kolom standar memiliki nilai non-null sama dengan entri data. Sehingga tabel data bisa di gunakan ke tahap visualisasi data dan analisis statistika."
   ]
  },
  {
   "cell_type": "markdown",
   "metadata": {},
   "source": [
    "# Analisis dan perhitungan"
   ]
  },
  {
   "cell_type": "markdown",
   "metadata": {},
   "source": [
    "## Data Visualisasi dan Data Storytelling\n",
    "\n",
    "Data Visualization adalah salah satu komunikasi visual modern yang dapat menjadi solusi menyajikan suatu data agar lebih mudah dipahami. Dari segi bahasa bisa diartikan tampilan visual berupa grafis dari informasi dan data tertentu. Penggunaannya untuk mempresentasikan data terstruktur maupun tidak menggunakan grafik atau gambar lain guna menampilkan info terkandung dalam data. Pada milstone ini akan di tampilkan data visualisasi berupa "
   ]
  },
  {
   "cell_type": "markdown",
   "metadata": {},
   "source": [
    "Diagram Batang\n",
    "\n",
    "Diagram batang menggunakan batang horizontal atau vertikal untuk menampilkan perbandingan antarkategori. Semakin panjang sebuah batang, maka semakin besar nilai yang diwakilinya. Satu sumbu pada diagram menunjukkan kategori (dimensi) yang dibandingkan, dan sumbu lainnya mewakili nilai diskrit (metrik). Pada milstone ini menampilkan 2 diagram batang yaitu pertama melihat transaksi onlien beberapa negara terhadap barang inventaris, kedua melihat perbandingan potongan harga dan harga jual barang inventaris di masing-masing kategori."
   ]
  },
  {
   "cell_type": "code",
   "execution_count": 11,
   "metadata": {},
   "outputs": [
    {
     "data": {
      "text/plain": [
       "[]"
      ]
     },
     "execution_count": 11,
     "metadata": {},
     "output_type": "execute_result"
    },
    {
     "data": {
      "image/png": "[encoded data removed]",
      "text/plain": [
       "<Figure size 432x288 with 1 Axes>"
      ]
     },
     "metadata": {
      "needs_background": "light"
     },
     "output_type": "display_data"
    }
   ],
   "source": [
    "# Transaksi onlien beberapa negara terhadap barang inventaris\n",
    "# Hitung jumlah barang inventaris berdasarkan Kategori barang inventaris yang di jual oleh toko the look pada masing-maisng negara\n",
    "Negara = ecommerce['country'].value_counts().plot(kind='bar')\n",
    "\n",
    "#Membuat diagram batang \n",
    "Negara.plot(kind='bar', title='Transaksi barang inventaris toko the look setiap Negara')"
   ]
  },
  {
   "cell_type": "markdown",
   "metadata": {},
   "source": [
    "Pada diagram batang di atas, maka akan terlihat bahwa mayoritas transaksi seluruh barang inventaris barang dimiliki/dilakukan oleh pemerintah cina. Pemerintah austin melakukan transaksi barang inventaris tidak terlalu sering."
   ]
  },
  {
   "cell_type": "code",
   "execution_count": 12,
   "metadata": {},
   "outputs": [
    {
     "data": {
      "text/plain": [
       "[]"
      ]
     },
     "execution_count": 12,
     "metadata": {},
     "output_type": "execute_result"
    },
    {
     "data": {
      "image/png": "[encoded data removed]",
      "text/plain": [
       "<Figure size 432x288 with 1 Axes>"
      ]
     },
     "metadata": {
      "needs_background": "light"
     },
     "output_type": "display_data"
    }
   ],
   "source": [
    "# Melihat perbandingan potongan harga dan harga jual barang inventaris di masing-masing kategori\n",
    "# Hitung jumlah barang inventaris berdasarkan Kategori barang inventaris lalu membandingkan harga potongan dengan harga asli\n",
    "PerbandinganHarga = ecommerce.groupby('product_category').sum()[['cost','product_retail_price']].plot(kind='bar')\n",
    "\n",
    "#Membuat diagram batang \n",
    "PerbandinganHarga.plot(kind='bar', title='Perbandingan Harga potongan dan Harga asli Barang Inventaris')"
   ]
  },
  {
   "cell_type": "markdown",
   "metadata": {},
   "source": [
    "Pada diagram batang di atas, maka akan terlihat perbandingan Harga potongan dan Harga asli bisa mengurangi biaya yang dikeluarkan pembeli dalam memberi Barang Inventaris. Secara visual Barang Inventaris kategori jumpsuits & rompers, memiliki harga potongan setengan dari harga asli, sehingga bisa mengehemat biaya bagi para pembeli."
   ]
  },
  {
   "cell_type": "markdown",
   "metadata": {},
   "source": [
    "Grafik Pie\n",
    "\n",
    "Grafik pie atau diagram lingkaran merupakan grafik statistik berbentuk lingkaran yang dibagi menjadi beberapa irisan dan luasnya bergantung kepada proporsi numerik atau kuantitas dari data yang dimiliki. Satu lingkaran menunjukkan bagian utuh atau seratus persen. Pada milstone ini akan menampilkan grafik pie berupa penjualan barang inventaris di masing-masing kategorinya. "
   ]
  },
  {
   "cell_type": "code",
   "execution_count": 51,
   "metadata": {},
   "outputs": [
    {
     "data": {
      "text/html": [
       "<div>\n",
       "<style scoped>\n",
       "    .dataframe tbody tr th:only-of-type {\n",
       "        vertical-align: middle;\n",
       "    }\n",
       "\n",
       "    .dataframe tbody tr th {\n",
       "        vertical-align: top;\n",
       "    }\n",
       "\n",
       "    .dataframe thead th {\n",
       "        text-align: right;\n",
       "    }\n",
       "</style>\n",
       "<table border=\"1\" class=\"dataframe\">\n",
       "  <thead>\n",
       "    <tr style=\"text-align: right;\">\n",
       "      <th></th>\n",
       "      <th>product_retail_price</th>\n",
       "    </tr>\n",
       "    <tr>\n",
       "      <th>product_category</th>\n",
       "      <th></th>\n",
       "    </tr>\n",
       "  </thead>\n",
       "  <tbody>\n",
       "    <tr>\n",
       "      <th>Clothing Sets</th>\n",
       "      <td>10285.380007</td>\n",
       "    </tr>\n",
       "    <tr>\n",
       "      <th>Jumpsuits &amp; Rompers</th>\n",
       "      <td>18236.250028</td>\n",
       "    </tr>\n",
       "    <tr>\n",
       "      <th>Socks &amp; Hosiery</th>\n",
       "      <td>32766.349930</td>\n",
       "    </tr>\n",
       "    <tr>\n",
       "      <th>Leggings</th>\n",
       "      <td>47308.359969</td>\n",
       "    </tr>\n",
       "    <tr>\n",
       "      <th>Skirts</th>\n",
       "      <td>59917.470161</td>\n",
       "    </tr>\n",
       "  </tbody>\n",
       "</table>\n",
       "</div>"
      ],
      "text/plain": [
       "                     product_retail_price\n",
       "product_category                         \n",
       "Clothing Sets                10285.380007\n",
       "Jumpsuits & Rompers          18236.250028\n",
       "Socks & Hosiery              32766.349930\n",
       "Leggings                     47308.359969\n",
       "Skirts                       59917.470161"
      ]
     },
     "execution_count": 51,
     "metadata": {},
     "output_type": "execute_result"
    }
   ],
   "source": [
    "# Jumlah transaksi barang inventaris masing-masing kategori\n",
    "Pie = ecommerce.groupby(by='product_category')[['product_retail_price']].sum().sort_values(by='product_retail_price', ascending=True)\n",
    "Pie.head()"
   ]
  },
  {
   "cell_type": "code",
   "execution_count": 14,
   "metadata": {},
   "outputs": [
    {
     "data": {
      "text/plain": [
       "<AxesSubplot:ylabel='product_category'>"
      ]
     },
     "execution_count": 14,
     "metadata": {},
     "output_type": "execute_result"
    },
    {
     "data": {
      "image/png": "[encoded data removed]",
      "text/plain": [
       "<Figure size 720x720 with 1 Axes>"
      ]
     },
     "metadata": {},
     "output_type": "display_data"
    }
   ],
   "source": [
    "# Menampilkn persentase transaksi penjualan barang inventaris di toko the look\n",
    "ecommerce['product_category'].value_counts().plot(kind='pie', figsize=(10,10), autopct='%.2f')"
   ]
  },
  {
   "cell_type": "markdown",
   "metadata": {},
   "source": [
    "Berdasarkan grafik pie di atas, dapat dilihat bahwa barang inventaris kategori intimates paling banyak terjual, diikuti dengan kategori jeans dan kategori lainnya."
   ]
  },
  {
   "cell_type": "markdown",
   "metadata": {},
   "source": [
    "Scatter plot \n",
    "\n",
    "Scatter plot adalah sebuah grafik yang biasa digunakan untuk melihat suatu pola hubungan antara 2 variabel. Untuk bisa menggunakan scatter plot, skala data yang digunakan haruslah skala interval dan rasio. pada milstone ini, ingin melihat scatter plot hubungan usia pembeli terhadap harga jual barang inventaris yang ditawarkan oleh toko the look."
   ]
  },
  {
   "cell_type": "code",
   "execution_count": 15,
   "metadata": {},
   "outputs": [
    {
     "data": {
      "text/plain": [
       "<AxesSubplot:title={'center':'Hubungan Usia dan Harga Asli Produk'}, xlabel='age', ylabel='product_retail_price'>"
      ]
     },
     "execution_count": 15,
     "metadata": {},
     "output_type": "execute_result"
    },
    {
     "data": {
      "image/png": "[encoded data removed]",
      "text/plain": [
       "<Figure size 432x288 with 1 Axes>"
      ]
     },
     "metadata": {
      "needs_background": "light"
     },
     "output_type": "display_data"
    }
   ],
   "source": [
    "#Scater Plot\n",
    "ecommerce.plot(kind='scatter', title='Hubungan Usia dan Harga Asli Produk', x='age', y='product_retail_price')"
   ]
  },
  {
   "cell_type": "markdown",
   "metadata": {},
   "source": [
    "Berdasarkan scatter plot di atas, bahwa terdapat hubungan antara usia dengan harga barang inventaris yang dijual. Misalnya barang Pants sering dibeli oleh usia ynag lebih besar. Dari Scatter plot juga bisa menunjukkan adanya outlier yang jauh dari himpuan kedua variabel. Outlier adalah data yang ekstrim yang kemungkinan dihasilkan dari situasi yang tidak normal. "
   ]
  },
  {
   "cell_type": "markdown",
   "metadata": {},
   "source": [
    "## Analisis Statistika\n",
    "\n",
    "Analisis statistik adalah sebuah proses pengolahan data yang meliputi pemeriksaan, pembersihan, transformasi, pemrosesan, dan pemodelan data. Analisis statistika terbagi menjadi dua yaitu statistika deskriptif dan statistika inferensial. \n",
    "- Statistika Deskripsi merupakan metode statistika yang berkaitan dengan cara pengumpulan, pengolahan sampai penyajian data untuk memberi suatu informasi.\n",
    "- Statistika inferensial merupakan metode statistika yang berkaitan dengan cara menganalisis, menginterpretasikan sampai penarikan kesimpulan dari hasil analisa.\n",
    "\n"
   ]
  },
  {
   "cell_type": "markdown",
   "metadata": {},
   "source": [
    "### Statistika Deskriptif\n",
    "\n",
    "Statistika deskriptif terbagi menjadi 2 yaitu ukuran pemusatan dan ukuran penyeberan. Pada milstone, ukuran pemusatan yang di gunakan adalah mean, median dan modus. Sedangkan ukuran penyebaran yang digunakan adalah range, variansi dan standar deviasi."
   ]
  },
  {
   "cell_type": "code",
   "execution_count": 16,
   "metadata": {},
   "outputs": [
    {
     "data": {
      "text/plain": [
       "array(['Swim', 'Jeans', 'Pants', 'Socks', 'Active', 'Shorts', 'Sweaters',\n",
       "       'Underwear', 'Accessories', 'Tops & Tees', 'Sleep & Lounge',\n",
       "       'Outerwear & Coats', 'Suits & Sport Coats',\n",
       "       'Fashion Hoodies & Sweatshirts', 'Plus', 'Suits', 'Skirts',\n",
       "       'Dresses', 'Leggings', 'Intimates', 'Maternity', 'Clothing Sets',\n",
       "       'Pants & Capris', 'Socks & Hosiery', 'Blazers & Jackets',\n",
       "       'Jumpsuits & Rompers'], dtype=object)"
      ]
     },
     "execution_count": 16,
     "metadata": {},
     "output_type": "execute_result"
    }
   ],
   "source": [
    "# Melihat kategori produk yang dijual\n",
    "TheLook['category'].unique()"
   ]
  },
  {
   "cell_type": "code",
   "execution_count": 17,
   "metadata": {},
   "outputs": [
    {
     "name": "stdout",
     "output_type": "stream",
     "text": [
      "---Kategori harga produk swim---\n",
      "Mode: 25.0\n",
      "Median: 49.9900016784668\n",
      "Mean: 57.81566191833462\n",
      "S.dev: 35.78527989865552\n",
      "\n",
      "---Kategori harga produk Jeans---\n",
      "Mode: 98.0\n",
      "Median: 78.0\n",
      "Mean: 97.85320674568013\n",
      "S.dev: 63.84652302631376\n",
      "\n",
      "---Kategori harga produk Pants---\n",
      "Mode: 49.9900016784668\n",
      "Median: 49.9900016784668\n",
      "Mean: 59.81431338285507\n",
      "S.dev: 38.333552884302804\n",
      "\n",
      "---Kategori harga produk Socks---\n",
      "Mode: 12.0\n",
      "Median: 15.079999923706056\n",
      "Mean: 20.424928183581947\n",
      "S.dev: 43.04001379738287\n",
      "\n",
      "---Kategori harga produk Active---\n",
      "Mode: 25.0\n",
      "Median: 33.97999954223633\n",
      "Mean: 50.62101957834633\n",
      "S.dev: 75.69040993678708\n",
      "\n",
      "---Kategori harga produk Shorts---\n",
      "Mode: 25.0\n",
      "Median: 39.59999847412109\n",
      "Mean: 45.769915145247246\n",
      "S.dev: 46.230400373773534\n",
      "\n",
      "---Kategori harga produk Sweaters---\n",
      "Mode: 19.989999771118164\n",
      "Median: 58.9900016784668\n",
      "Mean: 75.31898100319853\n",
      "S.dev: 58.82624227057094\n",
      "\n",
      "---Kategori harga produk Underwear---\n",
      "Mode: 25.0\n",
      "Median: 25.0\n",
      "Mean: 27.156001869808225\n",
      "S.dev: 14.994457996924245\n",
      "\n",
      "---Kategori harga produk Accessories---\n",
      "Mode: 14.989999771118164\n",
      "Median: 24.299999237060547\n",
      "Mean: 42.56531748144318\n",
      "S.dev: 48.17848469085249\n",
      "\n",
      "---Kategori harga produk TopsTees---\n",
      "Mode: 25.0\n",
      "Median: 30.734999656677246\n",
      "Mean: 41.34163825657434\n",
      "S.dev: 33.06659936901993\n",
      "\n",
      "---Kategori harga produk SleepLounge---\n",
      "Mode: 25.0\n",
      "Median: 36.9900016784668\n",
      "Mean: 49.21876917324249\n",
      "S.dev: 41.54557389314179\n",
      "\n",
      "---Kategori harga produk OuterwearCoats---\n",
      "Mode: 79.98999786376953\n",
      "Median: 109.9499969482422\n",
      "Mean: 146.01709143410267\n",
      "S.dev: 138.24616679024174\n",
      "\n",
      "---Kategori harga produk SuitsSportCoats---\n",
      "Mode: 99.98999786376952\n",
      "Median: 99.5\n",
      "Mean: 126.55561555803064\n",
      "S.dev: 98.77098536263934\n",
      "\n",
      "---Kategori harga produk FashionHoodiesSweatshirts---\n",
      "Mode: 29.989999771118164\n",
      "Median: 49.5\n",
      "Mean: 53.91559489976938\n",
      "S.dev: 36.342251695465976\n",
      "\n",
      "---Kategori harga produk Plus---\n",
      "Mode: 25.0\n",
      "Median: 24.994999885559082\n",
      "Mean: 38.42532988604266\n",
      "S.dev: 51.023775825806844\n",
      "\n",
      "---Kategori harga produk Suits---\n",
      "Mode: 127.51000213623048\n",
      "Median: 122.70999908447266\n",
      "Mean: 116.1640958380192\n",
      "S.dev: 46.29106300823557\n",
      "\n",
      "---Kategori harga produk Skirts---\n",
      "Mode: 25.0\n",
      "Median: 36.9900016784668\n",
      "Mean: 52.325231732724475\n",
      "S.dev: 61.52405207007531\n",
      "\n",
      "---Kategori harga produk Dresses---\n",
      "Mode: 46.9900016784668\n",
      "Median: 59.0\n",
      "Mean: 84.20327769574071\n",
      "S.dev: 81.34487805308002\n",
      "\n",
      "---Kategori harga produk Leggings---\n",
      "Mode: 9.949999809265137\n",
      "Median: 16.950000762939453\n",
      "Mean: 27.149663078869487\n",
      "S.dev: 34.047978232176504\n",
      "\n",
      "---Kategori harga produk Intimates---\n",
      "Mode: 36.0\n",
      "Median: 28.0\n",
      "Mean: 33.70738049588665\n",
      "S.dev: 30.144316003294676\n",
      "\n",
      "---Kategori harga produk Maternity---\n",
      "Mode: 25.0\n",
      "Median: 39.97999954223633\n",
      "Mean: 50.799209259666156\n",
      "S.dev: 37.36081079900552\n",
      "\n",
      "---Kategori harga produk ClothingSets---\n",
      "Mode: 57.9900016784668\n",
      "Median: 70.0\n",
      "Mean: 84.84405414478199\n",
      "S.dev: 42.27038411777374\n",
      "\n",
      "---Kategori harga produk PantsCapris---\n",
      "Mode: 25.0\n",
      "Median: 40.0\n",
      "Mean: 54.70554671357545\n",
      "S.dev: 58.76359426623735\n",
      "\n",
      "---Kategori harga produk SocksHosiery---\n",
      "Mode: 25.0\n",
      "Median: 14.0\n",
      "Mean: 16.759954925771947\n",
      "S.dev: 11.288459412174005\n",
      "\n",
      "---Kategori harga produk BlazersJackets---\n",
      "Mode: 44.77999877929688\n",
      "Median: 59.9900016784668\n",
      "Mean: 92.59508041562032\n",
      "S.dev: 92.25042713555432\n",
      "\n",
      "---Kategori harga produk JumpsuitsRompers---\n",
      "Mode: 24.989999771118164\n",
      "Median: 24.944999694824222\n",
      "Mean: 45.42216063134464\n",
      "S.dev: 62.325008995240815\n"
     ]
    }
   ],
   "source": [
    "Swim = TheLook.loc[TheLook['category']=='Swim', :]\n",
    "print('---Kategori harga produk swim---')\n",
    "print ('Mode: ' + str(Swim['retail_price'].mode()[0]))\n",
    "print ('Median: ' + str(Swim['retail_price'].median()))\n",
    "print ('Mean: ' + str(Swim['retail_price'].mean()))\n",
    "print ('S.dev: ' + str(Swim['retail_price'].std()))\n",
    "print(      )\n",
    "\n",
    "Jeans = TheLook.loc[TheLook['category']=='Jeans', :]\n",
    "print('---Kategori harga produk Jeans---')\n",
    "print ('Mode: ' + str(Jeans['retail_price'].mode()[0]))\n",
    "print ('Median: ' + str(Jeans['retail_price'].median()))\n",
    "print ('Mean: ' + str(Jeans['retail_price'].mean()))\n",
    "print ('S.dev: ' + str(Jeans['retail_price'].std()))\n",
    "print(      )\n",
    "\n",
    "Pants = TheLook.loc[TheLook['category']=='Pants', :]\n",
    "print('---Kategori harga produk Pants---')\n",
    "print ('Mode: ' + str(Pants['retail_price'].mode()[0]))\n",
    "print ('Median: ' + str(Pants['retail_price'].median()))\n",
    "print ('Mean: ' + str(Pants['retail_price'].mean()))\n",
    "print ('S.dev: ' + str(Pants['retail_price'].std()))\n",
    "print(      )\n",
    "\n",
    "Socks = TheLook.loc[TheLook['category']=='Socks', :]\n",
    "print('---Kategori harga produk Socks---')\n",
    "print ('Mode: ' + str(Socks['retail_price'].mode()[0]))\n",
    "print ('Median: ' + str(Socks['retail_price'].median()))\n",
    "print ('Mean: ' + str(Socks['retail_price'].mean()))\n",
    "print ('S.dev: ' + str(Socks['retail_price'].std()))\n",
    "print(      )\n",
    "\n",
    "Active = TheLook.loc[TheLook['category']=='Active', :]\n",
    "print('---Kategori harga produk Active---')\n",
    "print ('Mode: ' + str(Active['retail_price'].mode()[0]))\n",
    "print ('Median: ' + str(Active['retail_price'].median()))\n",
    "print ('Mean: ' + str(Active['retail_price'].mean()))\n",
    "print ('S.dev: ' + str(Active['retail_price'].std()))\n",
    "print(      )\n",
    "\n",
    "Shorts = TheLook.loc[TheLook['category']=='Shorts', :]\n",
    "print('---Kategori harga produk Shorts---')\n",
    "print ('Mode: ' + str(Shorts['retail_price'].mode()[0]))\n",
    "print ('Median: ' + str(Shorts['retail_price'].median()))\n",
    "print ('Mean: ' + str(Shorts['retail_price'].mean()))\n",
    "print ('S.dev: ' + str(Shorts['retail_price'].std()))\n",
    "print(      )\n",
    "\n",
    "Sweaters = TheLook.loc[TheLook['category']=='Sweaters', :]\n",
    "print('---Kategori harga produk Sweaters---')\n",
    "print ('Mode: ' + str(Sweaters['retail_price'].mode()[0]))\n",
    "print ('Median: ' + str(Sweaters['retail_price'].median()))\n",
    "print ('Mean: ' + str(Sweaters['retail_price'].mean()))\n",
    "print ('S.dev: ' + str(Sweaters['retail_price'].std()))\n",
    "print(      )\n",
    "\n",
    "Underwear = TheLook.loc[TheLook['category']=='Underwear', :]\n",
    "print('---Kategori harga produk Underwear---')\n",
    "print ('Mode: ' + str(Underwear['retail_price'].mode()[0]))\n",
    "print ('Median: ' + str(Underwear['retail_price'].median()))\n",
    "print ('Mean: ' + str(Underwear['retail_price'].mean()))\n",
    "print ('S.dev: ' + str(Underwear['retail_price'].std()))\n",
    "print(      )\n",
    "\n",
    "Accessories = TheLook.loc[TheLook['category']=='Accessories', :]\n",
    "print('---Kategori harga produk Accessories---')\n",
    "print ('Mode: ' + str(Accessories['retail_price'].mode()[0]))\n",
    "print ('Median: ' + str(Accessories['retail_price'].median()))\n",
    "print ('Mean: ' + str(Accessories['retail_price'].mean()))\n",
    "print ('S.dev: ' + str(Accessories['retail_price'].std()))\n",
    "print(      )\n",
    "\n",
    "TopsTees = TheLook.loc[TheLook['category']=='Tops & Tees', :]\n",
    "print('---Kategori harga produk TopsTees---')\n",
    "print ('Mode: ' + str(TopsTees['retail_price'].mode()[0]))\n",
    "print ('Median: ' + str(TopsTees['retail_price'].median()))\n",
    "print ('Mean: ' + str(TopsTees['retail_price'].mean()))\n",
    "print ('S.dev: ' + str(TopsTees['retail_price'].std()))\n",
    "print(      )\n",
    "\n",
    "SleepLounge = TheLook.loc[TheLook['category']=='Sleep & Lounge', :]\n",
    "print('---Kategori harga produk SleepLounge---')\n",
    "print ('Mode: ' + str(SleepLounge['retail_price'].mode()[0]))\n",
    "print ('Median: ' + str(SleepLounge['retail_price'].median()))\n",
    "print ('Mean: ' + str(SleepLounge['retail_price'].mean()))\n",
    "print ('S.dev: ' + str(SleepLounge['retail_price'].std()))\n",
    "print(      )\n",
    "\n",
    "OuterwearCoats = TheLook.loc[TheLook['category']=='Outerwear & Coats', :]\n",
    "print('---Kategori harga produk OuterwearCoats---')\n",
    "print ('Mode: ' + str(OuterwearCoats['retail_price'].mode()[0]))\n",
    "print ('Median: ' + str(OuterwearCoats['retail_price'].median()))\n",
    "print ('Mean: ' + str(OuterwearCoats['retail_price'].mean()))\n",
    "print ('S.dev: ' + str(OuterwearCoats['retail_price'].std()))\n",
    "print(      )\n",
    "\n",
    "SuitsSportCoats = TheLook.loc[TheLook['category']=='Suits & Sport Coats', :]\n",
    "print('---Kategori harga produk SuitsSportCoats---')\n",
    "print ('Mode: ' + str(SuitsSportCoats['retail_price'].mode()[0]))\n",
    "print ('Median: ' + str(SuitsSportCoats['retail_price'].median()))\n",
    "print ('Mean: ' + str(SuitsSportCoats['retail_price'].mean()))\n",
    "print ('S.dev: ' + str(SuitsSportCoats['retail_price'].std()))\n",
    "print(      )\n",
    "\n",
    "FashionHoodiesSweatshirts = TheLook.loc[TheLook['category']=='Fashion Hoodies & Sweatshirts', :]\n",
    "print('---Kategori harga produk FashionHoodiesSweatshirts---')\n",
    "print ('Mode: ' + str(FashionHoodiesSweatshirts['retail_price'].mode()[0]))\n",
    "print ('Median: ' + str(FashionHoodiesSweatshirts['retail_price'].median()))\n",
    "print ('Mean: ' + str(FashionHoodiesSweatshirts['retail_price'].mean()))\n",
    "print ('S.dev: ' + str(FashionHoodiesSweatshirts['retail_price'].std()))\n",
    "print(      )\n",
    "\n",
    "Plus = TheLook.loc[TheLook['category']=='Plus', :]\n",
    "print('---Kategori harga produk Plus---')\n",
    "print ('Mode: ' + str(Plus['retail_price'].mode()[0]))\n",
    "print ('Median: ' + str(Plus['retail_price'].median()))\n",
    "print ('Mean: ' + str(Plus['retail_price'].mean()))\n",
    "print ('S.dev: ' + str(Plus['retail_price'].std()))\n",
    "print(      )\n",
    "\n",
    "Suits = TheLook.loc[TheLook['category']=='Suits', :]\n",
    "print('---Kategori harga produk Suits---')\n",
    "print ('Mode: ' + str(Suits['retail_price'].mode()[0]))\n",
    "print ('Median: ' + str(Suits['retail_price'].median()))\n",
    "print ('Mean: ' + str(Suits['retail_price'].mean()))\n",
    "print ('S.dev: ' + str(Suits['retail_price'].std()))\n",
    "print(      )\n",
    "\n",
    "Skirts = TheLook.loc[TheLook['category']=='Skirts', :]\n",
    "print('---Kategori harga produk Skirts---')\n",
    "print ('Mode: ' + str(Skirts['retail_price'].mode()[0]))\n",
    "print ('Median: ' + str(Skirts['retail_price'].median()))\n",
    "print ('Mean: ' + str(Skirts['retail_price'].mean()))\n",
    "print ('S.dev: ' + str(Skirts['retail_price'].std()))\n",
    "print(      )\n",
    "\n",
    "Dresses = TheLook.loc[TheLook['category']=='Dresses', :]\n",
    "print('---Kategori harga produk Dresses---')\n",
    "print ('Mode: ' + str(Dresses['retail_price'].mode()[0]))\n",
    "print ('Median: ' + str(Dresses['retail_price'].median()))\n",
    "print ('Mean: ' + str(Dresses['retail_price'].mean()))\n",
    "print ('S.dev: ' + str(Dresses['retail_price'].std()))\n",
    "print(      )\n",
    "\n",
    "Leggings = TheLook.loc[TheLook['category']=='Leggings', :]\n",
    "print('---Kategori harga produk Leggings---')\n",
    "print ('Mode: ' + str(Leggings['retail_price'].mode()[0]))\n",
    "print ('Median: ' + str(Leggings['retail_price'].median()))\n",
    "print ('Mean: ' + str(Leggings['retail_price'].mean()))\n",
    "print ('S.dev: ' + str(Leggings['retail_price'].std()))\n",
    "print(      )\n",
    "\n",
    "Intimates = TheLook.loc[TheLook['category']=='Intimates', :]\n",
    "print('---Kategori harga produk Intimates---')\n",
    "print ('Mode: ' + str(Intimates['retail_price'].mode()[0]))\n",
    "print ('Median: ' + str(Intimates['retail_price'].median()))\n",
    "print ('Mean: ' + str(Intimates['retail_price'].mean()))\n",
    "print ('S.dev: ' + str(Intimates['retail_price'].std()))\n",
    "print(      )\n",
    "\n",
    "Maternity = TheLook.loc[TheLook['category']=='Maternity', :]\n",
    "print('---Kategori harga produk Maternity---')\n",
    "print ('Mode: ' + str(Maternity['retail_price'].mode()[0]))\n",
    "print ('Median: ' + str(Maternity['retail_price'].median()))\n",
    "print ('Mean: ' + str(Maternity['retail_price'].mean()))\n",
    "print ('S.dev: ' + str(Maternity['retail_price'].std()))\n",
    "print(      )\n",
    "\n",
    "ClothingSets = TheLook.loc[TheLook['category']=='Clothing Sets', :]\n",
    "print('---Kategori harga produk ClothingSets---')\n",
    "print ('Mode: ' + str(ClothingSets['retail_price'].mode()[0]))\n",
    "print ('Median: ' + str(ClothingSets['retail_price'].median()))\n",
    "print ('Mean: ' + str(ClothingSets['retail_price'].mean()))\n",
    "print ('S.dev: ' + str(ClothingSets['retail_price'].std()))\n",
    "print(      )\n",
    "\n",
    "PantsCapris = TheLook.loc[TheLook['category']=='Pants & Capris', :]\n",
    "print('---Kategori harga produk PantsCapris---')\n",
    "print ('Mode: ' + str(PantsCapris['retail_price'].mode()[0]))\n",
    "print ('Median: ' + str(PantsCapris['retail_price'].median()))\n",
    "print ('Mean: ' + str(PantsCapris['retail_price'].mean()))\n",
    "print ('S.dev: ' + str(PantsCapris['retail_price'].std()))\n",
    "print(      )\n",
    "\n",
    "SocksHosiery = TheLook.loc[TheLook['category']=='Socks & Hosiery', :]\n",
    "print('---Kategori harga produk SocksHosiery---')\n",
    "print ('Mode: ' + str(SocksHosiery['retail_price'].mode()[0]))\n",
    "print ('Median: ' + str(SocksHosiery['retail_price'].median()))\n",
    "print ('Mean: ' + str(SocksHosiery['retail_price'].mean()))\n",
    "print ('S.dev: ' + str(SocksHosiery['retail_price'].std()))\n",
    "print(      )\n",
    "\n",
    "BlazersJackets = TheLook.loc[TheLook['category']=='Blazers & Jackets', :]\n",
    "print('---Kategori harga produk BlazersJackets---')\n",
    "print ('Mode: ' + str(BlazersJackets['retail_price'].mode()[0]))\n",
    "print ('Median: ' + str(BlazersJackets['retail_price'].median()))\n",
    "print ('Mean: ' + str(BlazersJackets['retail_price'].mean()))\n",
    "print ('S.dev: ' + str(BlazersJackets['retail_price'].std()))\n",
    "print(      )\n",
    "\n",
    "JumpsuitsRompers = TheLook.loc[TheLook['category']=='Jumpsuits & Rompers', :]\n",
    "print('---Kategori harga produk JumpsuitsRompers---')\n",
    "print ('Mode: ' + str(JumpsuitsRompers['retail_price'].mode()[0]))\n",
    "print ('Median: ' + str(JumpsuitsRompers['retail_price'].median()))\n",
    "print ('Mean: ' + str(JumpsuitsRompers['retail_price'].mean()))\n",
    "print ('S.dev: ' + str(JumpsuitsRompers['retail_price'].std()))"
   ]
  },
  {
   "cell_type": "markdown",
   "metadata": {},
   "source": [
    "Berdasarkan nilai centarl tendecy, bahwa kategori produk underware memiliki nilai standar deviasi yang paling oleh karena akan mengunakan data tersebut untuk di cari nilai ukuran penyebara tanpa data outlier, maka terlebih darulu di lihat bentuk distribusinya."
   ]
  },
  {
   "cell_type": "code",
   "execution_count": 18,
   "metadata": {},
   "outputs": [
    {
     "data": {
      "image/png": "[encoded data removed]",
      "text/plain": [
       "<Figure size 720x576 with 1 Axes>"
      ]
     },
     "metadata": {
      "needs_background": "light"
     },
     "output_type": "display_data"
    },
    {
     "data": {
      "image/png": "[encoded data removed]",
      "text/plain": [
       "<Figure size 432x288 with 1 Axes>"
      ]
     },
     "metadata": {
      "needs_background": "light"
     },
     "output_type": "display_data"
    },
    {
     "name": "stdout",
     "output_type": "stream",
     "text": [
      "retail_price skewness: 6.681155435060603\n",
      "retail_price kurtosis: 88.0401882528836\n"
     ]
    },
    {
     "data": {
      "image/png": "[encoded data removed]",
      "text/plain": [
       "<Figure size 432x288 with 1 Axes>"
      ]
     },
     "metadata": {
      "needs_background": "light"
     },
     "output_type": "display_data"
    },
    {
     "name": "stdout",
     "output_type": "stream",
     "text": [
      "\n",
      "\n"
     ]
    }
   ],
   "source": [
    "# DISTRIBUSI KATEGORI PRODUK UNDERWARE\n",
    "\n",
    "# Visualization of Box Plot of Grade\n",
    "\n",
    "%matplotlib inline\n",
    "import scipy.stats as stats\n",
    "\n",
    "# Plot a box-whisker chart\n",
    "Underwear['retail_price'].plot(kind='box', title='Distribusi Berat Sampah di Lokasi WILCAB', figsize=(10,8))\n",
    "plt.show()\n",
    "\n",
    "# Visualization of Distribution\n",
    "Distribusi = Underwear['retail_price']\n",
    "density = stats.gaussian_kde(Distribusi)\n",
    "n, x, _ = plt.hist(Distribusi, histtype='step', bins=25, density = True)  \n",
    "plt.plot(x, density(x)*2**7.5)\n",
    "plt.axvline(Distribusi.mean(), color='magenta', linestyle='dashed', linewidth=3)\n",
    "plt.axvline(Distribusi.median(), color='green', linestyle='dashed', linewidth=2)\n",
    "plt.show()\n",
    "\n",
    "# Dapatkan Nilai Skewness dan Kurtosis\n",
    "kemiringan = ['retail_price']\n",
    "for col in kemiringan:\n",
    "    print(Underwear[col].name + ' skewness: ' + str(Underwear[col].skew()))\n",
    "    print(Underwear[col].name + ' kurtosis: ' + str(Underwear[col].kurt()))\n",
    "    n, x, _ = plt.hist(Underwear[col], histtype='step', bins=25, density = True)\n",
    "    plt.plot(x, density(x)*6)\n",
    "    plt.show()\n",
    "    print('\\n')"
   ]
  },
  {
   "cell_type": "markdown",
   "metadata": {},
   "source": [
    "Pendeteksian Nilai Outlier\n",
    "\n",
    "Metode untuk mengecek nilai oulier bisa mengunakan Tukey dengan ringkasan 5 angka untuk mendeteksi outlier. Intinya adalah bahwa data yang menyimpang dari median di atas ambang batas tertentu akan ditandai sebagai outlier. Rumus untuk deteksi outlier Tukey\n",
    "\n",
    "${q_{3}+1.5*IQR}$\n",
    "\n",
    "${q_{1}-1.5*IQR}$"
   ]
  },
  {
   "cell_type": "code",
   "execution_count": 19,
   "metadata": {},
   "outputs": [],
   "source": [
    "Q1 = Underwear['retail_price'].quantile(0.25)\n",
    "Q3 = Underwear['retail_price'].quantile(0.75)\n",
    "IQR = Q3-Q1\n",
    "Underwear2 = Underwear[~(((Underwear['retail_price'] < (Q1-1.5*IQR)) | (Underwear['retail_price'] > (Q3+1.5*IQR))))]"
   ]
  },
  {
   "cell_type": "code",
   "execution_count": 20,
   "metadata": {},
   "outputs": [],
   "source": [
    "Q1 = Underwear2['retail_price'].quantile(0.25)\n",
    "Q3 = Underwear2['retail_price'].quantile(0.75)\n",
    "IQR = Q3-Q1\n",
    "Underwear3 = Underwear2[~(((Underwear2['retail_price'] < (Q1-1.5*IQR)) | (Underwear2['retail_price'] > (Q3+1.5*IQR))))]"
   ]
  },
  {
   "cell_type": "code",
   "execution_count": 21,
   "metadata": {},
   "outputs": [
    {
     "data": {
      "image/png": "[encoded data removed]",
      "text/plain": [
       "<Figure size 720x576 with 1 Axes>"
      ]
     },
     "metadata": {
      "needs_background": "light"
     },
     "output_type": "display_data"
    },
    {
     "data": {
      "image/png": "[encoded data removed]",
      "text/plain": [
       "<Figure size 432x288 with 1 Axes>"
      ]
     },
     "metadata": {
      "needs_background": "light"
     },
     "output_type": "display_data"
    },
    {
     "name": "stdout",
     "output_type": "stream",
     "text": [
      "retail_price skewness: 0.12248682274161883\n",
      "retail_price kurtosis: -0.14190799945954602\n"
     ]
    },
    {
     "data": {
      "image/png": "[encoded data removed]",
      "text/plain": [
       "<Figure size 432x288 with 1 Axes>"
      ]
     },
     "metadata": {
      "needs_background": "light"
     },
     "output_type": "display_data"
    },
    {
     "name": "stdout",
     "output_type": "stream",
     "text": [
      "\n",
      "\n"
     ]
    }
   ],
   "source": [
    "# VISUAISASI PRODUK KATEGORI UNDERWARE TANPA OUTLIER\n",
    "\n",
    "# Visualization of Box Plot of Grade\n",
    "\n",
    "%matplotlib inline\n",
    "import scipy.stats as stats\n",
    "\n",
    "# Plot a box-whisker chart\n",
    "Underwear3['retail_price'].plot(kind='box', title='Distribusi Berat Sampah di Lokasi WILCAB', figsize=(10,8))\n",
    "plt.show()\n",
    "\n",
    "# Visualization of Distribution\n",
    "DistribusUnderwear3 = Underwear3['retail_price']\n",
    "density = stats.gaussian_kde(DistribusUnderwear3)\n",
    "n, x, _ = plt.hist(DistribusUnderwear3, histtype='step', bins=25, density = True)  \n",
    "plt.plot(x, density(x)*2**7.5)\n",
    "plt.axvline(DistribusUnderwear3.mean(), color='magenta', linestyle='dashed', linewidth=3)\n",
    "plt.axvline(DistribusUnderwear3.median(), color='green', linestyle='dashed', linewidth=2)\n",
    "plt.show()\n",
    "\n",
    "# Dapatkan Nilai Skewness dan Kurtosis\n",
    "kemiringan = ['retail_price']\n",
    "for col in kemiringan:\n",
    "    print(Underwear3[col].name + ' skewness: ' + str(Underwear2[col].skew()))\n",
    "    print(Underwear3[col].name + ' kurtosis: ' + str(Underwear2[col].kurt()))\n",
    "    n, x, _ = plt.hist(Underwear2[col], histtype='step', bins=25, density = True)\n",
    "    plt.plot(x, density(x)*6)\n",
    "    plt.show()\n",
    "    print('\\n')"
   ]
  },
  {
   "cell_type": "markdown",
   "metadata": {},
   "source": [
    "Perbandingan kategori produk underware sebelum data di bersih kan dari outlier dengan sesudah data di bersihkan dari oulier."
   ]
  },
  {
   "cell_type": "code",
   "execution_count": 22,
   "metadata": {},
   "outputs": [
    {
     "name": "stdout",
     "output_type": "stream",
     "text": [
      "---Kategori harga produk Underwear---\n",
      "Min: 5.989999771118164\n",
      "Max: 283.3399963378906\n",
      "Mode: 25.0\n",
      "Median: 25.0\n",
      "Mean: 27.156001869808225\n",
      "S.dev: 14.994457996924245\n",
      "\n",
      "---Kategori harga produk Underwear tanpa data outlier---\n",
      "Min: 6.829999923706056\n",
      "Max: 42.0\n",
      "Mode: 25.0\n",
      "Median: 25.0\n",
      "Mean: 24.580895701261955\n",
      "S.dev: 7.08802163478223\n"
     ]
    }
   ],
   "source": [
    "print('---Kategori harga produk Underwear---')\n",
    "print ('Min: ' + str(Underwear['retail_price'].min()))\n",
    "print ('Max: ' + str(Underwear['retail_price'].max()))\n",
    "print ('Mode: ' + str(Underwear['retail_price'].mode()[0]))\n",
    "print ('Median: ' + str(Underwear['retail_price'].median()))\n",
    "print ('Mean: ' + str(Underwear['retail_price'].mean()))\n",
    "print ('S.dev: ' + str(Underwear['retail_price'].std()))\n",
    "print(      )\n",
    "print('---Kategori harga produk Underwear tanpa data outlier---')\n",
    "print ('Min: ' + str(Underwear3['retail_price'].min()))\n",
    "print ('Max: ' + str(Underwear3['retail_price'].max()))\n",
    "print ('Mode: ' + str(Underwear3['retail_price'].mode()[0]))\n",
    "print ('Median: ' + str(Underwear3['retail_price'].median()))\n",
    "print ('Mean: ' + str(Underwear3['retail_price'].mean()))\n",
    "print ('S.dev: ' + str(Underwear3['retail_price'].std()))"
   ]
  },
  {
   "cell_type": "markdown",
   "metadata": {},
   "source": [
    "**Range**, cara sederhana untuk mengukur varians dalam kumpulan data adalah dengan mengidentifikasi perbedaan antara nilai terendah dan tertinggi. Ini disebut rentang, dan dihitung dengan mengurangkan nilai minimum dari nilai maksimum."
   ]
  },
  {
   "cell_type": "code",
   "execution_count": 23,
   "metadata": {},
   "outputs": [
    {
     "name": "stdout",
     "output_type": "stream",
     "text": [
      "retail_price range: 35.170000076293945\n"
     ]
    }
   ],
   "source": [
    "import pandas as pd\n",
    "\n",
    "Range = ['retail_price']\n",
    "for col in Range:\n",
    "    print(Underwear3[col].name + ' range: ' + str(Underwear3[col].max() -Underwear3[col].min()))"
   ]
  },
  {
   "cell_type": "markdown",
   "metadata": {},
   "source": [
    "**Varians**, cara menunjukkan seberapa jauh data-data yang di miliki tersebar dari nilai rata-ratanya. Sedangkan, **standar deviasi** cara untuk mengetahui berapa banyak nilai atau jumlah data yang berbeda dari rata-rata."
   ]
  },
  {
   "cell_type": "code",
   "execution_count": 24,
   "metadata": {},
   "outputs": [
    {
     "name": "stdout",
     "output_type": "stream",
     "text": [
      "Nilai variance : 50.24005069514096\n",
      "Nilai standard deviation : 7.08802163478223\n"
     ]
    }
   ],
   "source": [
    "# Get the Variance\n",
    "print(f'Nilai variance :', Underwear3['retail_price'].var())\n",
    "# Get the Standard Deviation\n",
    "print(f'Nilai standard deviation :', Underwear3['retail_price'].std())"
   ]
  },
  {
   "cell_type": "markdown",
   "metadata": {},
   "source": [
    "### Statistik Inferensial\n",
    "\n",
    "Pada milstone ini akan digunakn analisis one sampel t-test one tailed dan Independent two test"
   ]
  },
  {
   "cell_type": "markdown",
   "metadata": {},
   "source": [
    "**A. one sampel t-test one tailed**, digunakan untuk melihat ada atau tidaknya signifikan peningkatan pada suatu objek."
   ]
  },
  {
   "cell_type": "code",
   "execution_count": 25,
   "metadata": {},
   "outputs": [],
   "source": [
    "TheLook['SaleOrderan'] = TheLook['sale_price']#variabel data income berisikan data quantity control pada barang unitprice\n",
    "TheLook['date'] = TheLook['created_at']#variabel data berisikan tahun dilakukannya produksi\n",
    "Potongan_Harga = TheLook[['date','SaleOrderan']].groupby('date').sum() #melihat daily_income dari dari data jumlah quantity control pada waktu "
   ]
  },
  {
   "cell_type": "code",
   "execution_count": 26,
   "metadata": {},
   "outputs": [
    {
     "data": {
      "text/plain": [
       "0    25.0\n",
       "Name: sale_price, dtype: float64"
      ]
     },
     "execution_count": 26,
     "metadata": {},
     "output_type": "execute_result"
    }
   ],
   "source": [
    "TheLook['sale_price'].mode()"
   ]
  },
  {
   "cell_type": "code",
   "execution_count": 27,
   "metadata": {},
   "outputs": [
    {
     "name": "stdout",
     "output_type": "stream",
     "text": [
      "Harga sale_price Penjualan: $59.0\n"
     ]
    }
   ],
   "source": [
    "print('Harga sale_price Penjualan: ${}'.format(np.round(Potongan_Harga['SaleOrderan'].mean()))) #melihat rata-rata"
   ]
  },
  {
   "cell_type": "markdown",
   "metadata": {},
   "source": [
    "Untuk memeriksa apakah harga potongan kepada pelanggan toko the look meningkat secara signifikan atau tidak, akan melakukan sampel tunggal satu sisi dan menetapkan tingkat signifikansi 0,05. Kami menggunakan metode ini karena kami hanya menguji variabel dan membandingkan sampel (data harga potongan ynag sering dipakai yaitu 25 dolar) dan populasi (kami menganggap itu adalah data harga potongan beberapa hari terakhir ini).\n",
    "\n",
    "Hipotesis \n",
    "**H0: μ <= \\$59**\n",
    "\n",
    "**H1: μ > \\$59**"
   ]
  },
  {
   "cell_type": "code",
   "execution_count": 28,
   "metadata": {},
   "outputs": [
    {
     "name": "stdout",
     "output_type": "stream",
     "text": [
      "P-value: 0.0\n",
      "t-statistics: 88.07460807419362\n"
     ]
    }
   ],
   "source": [
    "#ingin melihat apakah 59 dolar itu signifikan\n",
    "#stats.ttest_1samp syntax untuk one sample t-test\n",
    "#Membandigkan harga potong dengan 25 sebagai patokannya yang sering terjadi harga potongan\n",
    "t_stat,p_val = stats.ttest_1samp(Potongan_Harga.SaleOrderan,25)\n",
    "print('P-value:',p_val/2) #Nilai p dibagi 2 karena outputnya adalah nilai p dua sisi\n",
    "print('t-statistics:',t_stat)"
   ]
  },
  {
   "cell_type": "markdown",
   "metadata": {},
   "source": [
    "Hasil 0,0 lebih kecil dari 0,05 maka dengan ini menolak h0. yang artinya ada perbedaan signifikan beberapa harga potongan terhadap produk akhir-akhir ini di toko the look."
   ]
  },
  {
   "cell_type": "code",
   "execution_count": 36,
   "metadata": {},
   "outputs": [
    {
     "name": "stderr",
     "output_type": "stream",
     "text": [
      "c:\\Users\\AVITA\\AppData\\Local\\Programs\\Python\\Python310\\lib\\site-packages\\seaborn\\distributions.py:2619: FutureWarning: `distplot` is a deprecated function and will be removed in a future version. Please adapt your code to use either `displot` (a figure-level function with similar flexibility) or `histplot` (an axes-level function for histograms).\n",
      "  warnings.warn(msg, FutureWarning)\n"
     ]
    },
    {
     "data": {
      "text/plain": [
       "<matplotlib.legend.Legend at 0x2304c63fe50>"
      ]
     },
     "execution_count": 36,
     "metadata": {},
     "output_type": "execute_result"
    },
    {
     "data": {
      "image/png": "[encoded data removed]",
      "text/plain": [
       "<Figure size 720x360 with 1 Axes>"
      ]
     },
     "metadata": {
      "needs_background": "light"
     },
     "output_type": "display_data"
    }
   ],
   "source": [
    "import seaborn as sns\n",
    "PotonganHargaProduk = np.random.normal(Potongan_Harga.SaleOrderan.mean(), Potongan_Harga.SaleOrderan.std(), 25)\n",
    "\n",
    "ci = stats.norm.interval(0.95, Potongan_Harga.SaleOrderan.mean(), Potongan_Harga.SaleOrderan.std())\n",
    "\n",
    "plt.figure(figsize=(10,5))\n",
    "sns.distplot(PotonganHargaProduk, label='Potongan Harga', color='blue')\n",
    "plt.axvline(Potongan_Harga.SaleOrderan.mean(), color='red', linewidth=2, label='Potongan Harga Produk')\n",
    "plt.axvline(ci[1], color='green', linestyle='dashed', linewidth=2, label='confidence threshold of 95%/Tingkat Kepercayaan 0,05')\n",
    "plt.axvline(PotonganHargaProduk.mean() + t_stat*PotonganHargaProduk.std(), color='black', linestyle='dashed', linewidth=2, label = 'Alternative Hypothesis')\n",
    "plt.legend()"
   ]
  },
  {
   "cell_type": "markdown",
   "metadata": {},
   "source": [
    "**B. Independent sample t-test** merupakan uji yang digunakan untuk mengetahui adakah perbedaan mean antara dua kelompok bebas atau dua kelompok yang tidak berpasangan dengan maksud bahwa kedua kelompok data berasal subjek yang berbeda. Maka saya akan menguji perbedaan rata-rata harga produk Underware dengan harga produk Socks & Hosiery."
   ]
  },
  {
   "cell_type": "code",
   "execution_count": 37,
   "metadata": {},
   "outputs": [
    {
     "name": "stdout",
     "output_type": "stream",
     "text": [
      "Rata-rata Harga Underware :  27.156001869808225\n",
      "Rata-rata Harga Socks & Hosiery :  16.759954925771947\n"
     ]
    }
   ],
   "source": [
    "#Melihat rata-rata \n",
    "UnderwearHarga = TheLook[TheLook.category == 'Underwear'].groupby('created_at').sum()['retail_price'] \n",
    "SocksHosieryHarga = TheLook[TheLook.category == 'Socks & Hosiery'].groupby('created_at').sum()['retail_price']\n",
    "\n",
    "print(\"Rata-rata Harga Underware : \",UnderwearHarga.mean())\n",
    "print(\"Rata-rata Harga Socks & Hosiery : \",SocksHosieryHarga.mean())"
   ]
  },
  {
   "cell_type": "markdown",
   "metadata": {},
   "source": [
    "Rata-rata Harga Underware bernilai 27 dan Rata-rata Harga Socks & Hosiery bernilai 16, apakah terdapat kedua harga produk tersebut\n",
    "\n",
    "Hipotesis\n",
    "\n",
    "**H0: μ_ Underware(27) = μ_Socks & Hosiery(16)** (Perbedaan rata-rata harga produk underware sama dengan sorks & hosiery)\n",
    "\n",
    "**H1: μ_ Underware(27) = μ_Socks & Hosiery(16)** (Perbedaan rata-rata harga produk underware tidak sama dengan sorks & hosiery)"
   ]
  },
  {
   "cell_type": "code",
   "execution_count": 38,
   "metadata": {},
   "outputs": [
    {
     "name": "stdout",
     "output_type": "stream",
     "text": [
      "P-value: 2.207027843691716e-50\n",
      "t-statistics: 15.416477251058861\n"
     ]
    }
   ],
   "source": [
    "#Kalau independent pakai stats.ttest_ind\n",
    "t_stat, p_val = stats.ttest_ind(UnderwearHarga,SocksHosieryHarga)\n",
    "print('P-value:',p_val) \n",
    "print('t-statistics:',t_stat)"
   ]
  },
  {
   "cell_type": "markdown",
   "metadata": {},
   "source": [
    "Nilai p-value adalah 0.00000 < (lebih kecil) dari taraf signifikansi adalah 0.05,  maka menolak hipotesis H0. Sehingga Hipotesis H1 di terima, Perbedaan rata-rata harga produk underware tidak sama dengan sorks & hosiery."
   ]
  },
  {
   "cell_type": "code",
   "execution_count": 47,
   "metadata": {},
   "outputs": [
    {
     "name": "stderr",
     "output_type": "stream",
     "text": [
      "c:\\Users\\AVITA\\AppData\\Local\\Programs\\Python\\Python310\\lib\\site-packages\\seaborn\\distributions.py:2619: FutureWarning: `distplot` is a deprecated function and will be removed in a future version. Please adapt your code to use either `displot` (a figure-level function with similar flexibility) or `histplot` (an axes-level function for histograms).\n",
      "  warnings.warn(msg, FutureWarning)\n",
      "c:\\Users\\AVITA\\AppData\\Local\\Programs\\Python\\Python310\\lib\\site-packages\\seaborn\\distributions.py:2619: FutureWarning: `distplot` is a deprecated function and will be removed in a future version. Please adapt your code to use either `displot` (a figure-level function with similar flexibility) or `histplot` (an axes-level function for histograms).\n",
      "  warnings.warn(msg, FutureWarning)\n"
     ]
    },
    {
     "data": {
      "text/plain": [
       "<matplotlib.legend.Legend at 0x230569a1ed0>"
      ]
     },
     "execution_count": 47,
     "metadata": {},
     "output_type": "execute_result"
    },
    {
     "data": {
      "image/png": "[encoded data removed]",
      "text/plain": [
       "<Figure size 1152x360 with 1 Axes>"
      ]
     },
     "metadata": {
      "needs_background": "light"
     },
     "output_type": "display_data"
    }
   ],
   "source": [
    "produkunderwear = np.random.normal(UnderwearHarga.mean(),UnderwearHarga.std(),43)\n",
    "produksockshosiery = np.random.normal(SocksHosieryHarga.mean(),SocksHosieryHarga.std(),43)\n",
    "\n",
    "ci = stats.norm.interval(0.95, UnderwearHarga.mean(), UnderwearHarga.std())\n",
    "plt.figure(figsize=(16,5))\n",
    "sns.distplot(produkunderwear, label='Harga produk kategori Underwear',color='blue')\n",
    "sns.distplot(produksockshosiery, label='Harga produk kategori Socks & Hosiery',color='red')\n",
    "\n",
    "plt.axvline(UnderwearHarga.mean(), color='blue', linewidth=2, label='Harga rata-rata produk kategori Underwear')\n",
    "plt.axvline(SocksHosieryHarga.mean(), color='red',  linewidth=2, label='Harga rata-rata produk kategori Socks & Hosiery')\n",
    "\n",
    "plt.axvline(ci[1], color='green', linestyle='dashed', linewidth=2, label='confidence threshold of 95%/Tingkat Kepercayaan 0,05')\n",
    "plt.axvline(ci[0], color='green', linestyle='dashed', linewidth=2)\n",
    "plt.axvline(produksockshosiery.mean() + t_stat*produksockshosiery.std(), color='black', linestyle='dashed', linewidth=2, label = 'Alternative Hypothesis')\n",
    "\n",
    "plt.legend()"
   ]
  },
  {
   "cell_type": "markdown",
   "metadata": {},
   "source": [
    "# Kesimpulan Dari Identifikasi Masalah "
   ]
  },
  {
   "cell_type": "markdown",
   "metadata": {},
   "source": [
    "a. Negara mana dengan rata-rata transaksi pembelian barang inventaris paling besar ?\n",
    "\n",
    "Jawab : Berdasarkan hasil visualisasi data pada diagram batang di atas, maka akan terlihat bahwa mayoritas transaksi seluruh barang inventaris dimiliki/dilakukan oleh pemerintah cina. Menandakan bahwa pemerintah cina sering membeli barang inventaris untuk segala keperluan dalam menunjang sistem negaranya. Diikuti urutan kedua adalah negara unitet states, lalu urutan ketiga adalah negara Brasil. Pemerintah austin melakukan transaksi barang inventaris tidak terlalu sering atau paling kecil dibandingkan negara lain dalam melakukan pembelian barang untuk keperluan menunjang sistem negaranya. Berdasarkan hal ini CEO toko the look bisa memlihat apakah ada penjualan barang invntaris, yang aneh dari banyaknya yang penjualan terhadap pemasukan yang diterima.\n",
    "\n",
    "\n",
    "b. Bagaimana perbandingan biaya modal dengan harga jual barang inventaris ?\n",
    "\n",
    "Jawab : Berdasarkan hasil visualisasi pada diagram batang di atas, maka terlihat perbandingan Harga potongan dan Harga asli bisa mengurangi biaya yang dikeluarkan pembeli dalam memberi Barang Inventaris. Secara visual Barang Inventaris kategori jumpsuits & rompers, memiliki harga potongan setengan dari harga asli, sehingga bisa mengehemat biaya bagi para pembeli. Visualisasi ini bisa menjadi acuan untuk para pembeli jika ingin membeli barang inventaris mana yang memiliki harga potongan tertinggi agar tidak rugi, sehingga bisa pengeluaran para pembeli bisa di kontrol lebih hemat. Berdasarkan hal ini CEO toko the look bisa memperhatikan harga potongan yang diminati oleh para pelangganya, sehingga bisa ditingkatkan agar mendapatkan keuntungan yang baik.\n",
    "\n",
    "c. Berapa jumlah perbandingan penjualan barang inventaris dimasing-masing kategori barangnya ?\n",
    "\n",
    "Jawab : Berdasarkan hasil visualisasi grafik pie di atas, dapat dilihat bahwa barang inventaris kategori intimates paling banyak terjual, diikuti dengan kategori Fashion Hoodies & Sweatshirts, Tops & Tees, Shorts, Swim, Sleep & Lounge dan Sweaters sebagai barang inventaris dengan jumlah terjual yang hampir sama serta dilanjutka kategori barang inventaris lainnya. Visualisasi ini bisa menjadi acuan para pembeli, untuk melihat stok atau jenis barang apa saja yang tersedia di toko the look. Berdasarkan hal ini CEO toko the look bisa memlihat minat pembeli paling menyukai kategori barang inventori yang mana, jika ada kategori barang yang minatnya tinggi bisa di cek apakah ada penjualan yang keluar sesuai pemasukkan yang diterima.\n",
    "\n",
    "d. Apakah harga suatu barang inventaris ditentukan oleh usia pelanggan ?\n",
    "\n",
    "Jawab : Berdasarkan hasil visualisasi scatter plot di atas, bahwa terdapat hubungan antara usia dengan harga barang inventaris yang dijual. Misalnya barang Pants sering dibeli oleh usia ynag lebih besar. Dari Scatter plot juga bisa menunjukkan adanya outlier yang jauh dari himpuan kedua variabel. Outlier adalah data yang ekstrim yang kemungkinan dihasilkan dari situasi yang tidak normal. Berdasarkan hal ini CEO toko the look bisa memlihat minat harga barang yang sering dibeli oleh beberapa kalangan berdasarkan usia. Jika pembeli dengan kategori usia 40an paling sering membeli harga barang sekitar $60 lebih, bisa menadi cuan untuk menjual harga sesuai umur para pelanggan.\n",
    "\n",
    "e. Berdasarkan ukuran penyebaran, berapa nilai range, variansi dan standar deviasi dari kategori produk yang dipilih tanpa adanya data outlier ?\n",
    "\n",
    "Jawab : Berdasarkan perhitunga range untuk kategori produk underware bahwa perbedaan harga jual tertingi dan terendah adalah $35, menunjukkan bahwa kisaran harga produk kategori underware yang ada di toko the look. Varians merupakan perhitugan untuk menunjukkan seberapa jauh data-data yang di miliki tersebar dari nilai rata-ratanya, maka harga produk kategori underwear di toko the look paling mahal di antara harga umumnya sebesar $40 yang biasa harga rata-ratanya sekitar $25. Sedangkan standar deviasi untuk mengetahui berapa banyak nilai atau jumlah data yang berbeda dari rata-rata, maka harga produk kategori underwaer di toko the look paling mahal sebesar $40 sudah sebanyak 7 kali terjadi selama transaksi rentang waktu penjualan di toko the look. Berdasarkan hal ini CEO the look, bisa mengevaluasi harga produk di beberapa kategori selain produk underwear, untuk di kontrol harga yang terlalu tinggi sehingga tidak membuat kerugian bagi toko the look.\n",
    "\n",
    "f. Apakah potongan harga produk di toko the look meningkat secara signifikan ?\n",
    "\n",
    "Jawab : Berdasarkan pengujian One sample one tailed, diperoleh bahwa terjadi perubahan signifikan mengenai potongan harga pada produk yang di jual toko the look. Berdasarkan hal ini CEO the look bisa mempertahankan harga potogan produk sehingga akan makin banyak pelangan yang berminat melakukan transaksi.\n",
    "\n",
    "g. Bagaimana perbedaan rata-rata penjualan produk untuk kategori underwear dengan sochs & hosiery ?\n",
    "\n",
    "Jawab : Berdasarkan hasil uji independet t-test menunjukkan ada perbedaan rata-rata harga produk kategori underwear dengan sochs & hosiery. Berdasarkan hal ini CEO the look bisa memjual prosuk yang memiliki rata-rata penjualan yang lebih besar, sehingga bisa mendapatkan keutungan."
   ]
  }
 ],
 "metadata": {
  "interpreter": {
   "hash": "0c9598bad852d241a266e00f4a396ca4d4e981649d84c59e5c608161c8fead6b"
  },
  "kernelspec": {
   "display_name": "Python 3.10.4 64-bit",
   "language": "python",
   "name": "python3"
  },
  "language_info": {
   "codemirror_mode": {
    "name": "ipython",
    "version": 3
   },
   "file_extension": ".py",
   "mimetype": "text/x-python",
   "name": "python",
   "nbconvert_exporter": "python",
   "pygments_lexer": "ipython3",
   "version": "3.10.4"
  },
  "orig_nbformat": 4
 },
 "nbformat": 4,
 "nbformat_minor": 2
}
